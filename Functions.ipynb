{
 "cells": [
  {
   "cell_type": "markdown",
   "id": "d3a59254-5d0b-41ba-8242-9eb67b0e19f1",
   "metadata": {},
   "source": [
    "# ASSIGNMENT 3  FUNCTIONS"
   ]
  },
  {
   "cell_type": "markdown",
   "id": "29d77056-203e-4c27-bb6c-84f7c6ff5bf1",
   "metadata": {},
   "source": [
    "# 1. What is the difference between a function and a method in Python?\n",
    "\n"
   ]
  },
  {
   "cell_type": "markdown",
   "id": "c20473bc-a9ba-4824-8010-7fd032870bab",
   "metadata": {},
   "source": [
    "### Function\n",
    "\n",
    "A standalone block of code defined with def (or lambda) that isn’t tied to any object."
   ]
  },
  {
   "cell_type": "code",
   "execution_count": 4,
   "id": "3adadb86-f0d0-4449-9acc-50a5e1ed0c0a",
   "metadata": {},
   "outputs": [
    {
     "name": "stdout",
     "output_type": "stream",
     "text": [
      "Hello, Alice!\n"
     ]
    }
   ],
   "source": [
    "def greet(name):\n",
    "    return f\"Hello, {name}!\"\n",
    "\n",
    "print(greet(\"Alice\"))  # Hello, Alice!\n"
   ]
  },
  {
   "cell_type": "code",
   "execution_count": null,
   "id": "425643e0-ce70-4ee7-9e4f-c47b2c561d4d",
   "metadata": {},
   "outputs": [],
   "source": []
  },
  {
   "cell_type": "markdown",
   "id": "2844062c-323a-42f6-95e5-3df4c5c5b968",
   "metadata": {},
   "source": [
    "### Method\n",
    "A function that’s associated with an object (i.e. defined inside a class or provided by a built-in type). It implicitly receives the instance (self) or the class (cls) as its first argument.\n"
   ]
  },
  {
   "cell_type": "code",
   "execution_count": 7,
   "id": "19a5d82b-367c-41be-86cf-d0e4191a080c",
   "metadata": {},
   "outputs": [
    {
     "name": "stdout",
     "output_type": "stream",
     "text": [
      "HELLO\n"
     ]
    }
   ],
   "source": [
    "s = \"hello\"\n",
    "print(s.upper())  # HELLO\n",
    "# `upper` is a method of the str class\n"
   ]
  },
  {
   "cell_type": "markdown",
   "id": "8d773fef-0bde-4671-8819-fd6afc20fcf8",
   "metadata": {},
   "source": [
    "# 2.Explain the concept of function arguments and parameters in Python."
   ]
  },
  {
   "cell_type": "markdown",
   "id": "88a84493-61a3-462f-b7d9-36895cddb42d",
   "metadata": {},
   "source": [
    "### \n",
    "- Parameters are the names in a function’s definition.\n",
    "\n",
    "- Arguments are the actual values you pass when calling the function.\n",
    "\n",
    "\n"
   ]
  },
  {
   "cell_type": "code",
   "execution_count": 13,
   "id": "d77cc0ec-ed1f-4407-84db-c8e74d429b9f",
   "metadata": {},
   "outputs": [],
   "source": [
    "def add(x, y=10):     # x and y are parameters; y has a default value\n",
    "    return x + y\n",
    "\n",
    "result1 = add(5, 3)   # 5 and 3 are positional arguments → result1 == 8\n",
    "result2 = add(7)      # only one argument; y takes its default 10 → result2 == 17\n",
    "result3 = add(x=2, y=4)  # keyword arguments\n"
   ]
  },
  {
   "cell_type": "markdown",
   "id": "8a5b0d65-4254-4f04-9711-e9f7bfece7e2",
   "metadata": {},
   "source": [
    "# 3.  What are the different ways to define and call a function in Python?"
   ]
  },
  {
   "cell_type": "markdown",
   "id": "14a79790-bfdc-45b5-95ae-18609a382124",
   "metadata": {},
   "source": [
    "### 1) Standard def"
   ]
  },
  {
   "cell_type": "code",
   "execution_count": 19,
   "id": "092605b0-0579-45a6-9e06-b2391b3d133a",
   "metadata": {},
   "outputs": [
    {
     "name": "stdout",
     "output_type": "stream",
     "text": [
      "16\n"
     ]
    }
   ],
   "source": [
    "def square(n):\n",
    "    return n * n\n",
    "\n",
    "print(square(4))  # 16\n"
   ]
  },
  {
   "cell_type": "markdown",
   "id": "60fec31b-7623-4b70-84fe-0f3f53508c6c",
   "metadata": {},
   "source": [
    "### 2) Lambda (anonymous) function"
   ]
  },
  {
   "cell_type": "code",
   "execution_count": 22,
   "id": "025ca57d-1937-4656-9594-03083c9045a2",
   "metadata": {},
   "outputs": [
    {
     "name": "stdout",
     "output_type": "stream",
     "text": [
      "10\n"
     ]
    }
   ],
   "source": [
    "double = lambda x: x * 2\n",
    "print(double(5))  # 10\n"
   ]
  },
  {
   "cell_type": "markdown",
   "id": "6908b83d-a5ac-436c-8fb9-8ee8038d3124",
   "metadata": {},
   "source": [
    "### 3) Built-in higher-order calls"
   ]
  },
  {
   "cell_type": "code",
   "execution_count": 25,
   "id": "b7e8c113-123e-42bd-ae39-2a5c6490ed9b",
   "metadata": {},
   "outputs": [
    {
     "name": "stdout",
     "output_type": "stream",
     "text": [
      "10\n"
     ]
    }
   ],
   "source": [
    "# passing a function as an argument\n",
    "def apply(func, value):\n",
    "    return func(value)\n",
    "\n",
    "print(apply(lambda x: x + 1, 9))  # 10\n"
   ]
  },
  {
   "cell_type": "markdown",
   "id": "337d673a-a2d8-4cf0-bee0-28e80779f0bf",
   "metadata": {},
   "source": [
    "### 4) Variable-argument lists"
   ]
  },
  {
   "cell_type": "code",
   "execution_count": 28,
   "id": "77cf8505-89ff-4f9b-969e-c0986970d1d7",
   "metadata": {},
   "outputs": [
    {
     "name": "stdout",
     "output_type": "stream",
     "text": [
      "a-b-c\n",
      "x:y\n"
     ]
    }
   ],
   "source": [
    "def concatenate(*args, sep=\"-\"):\n",
    "    return sep.join(args)\n",
    "\n",
    "print(concatenate(\"a\", \"b\", \"c\"))        # \"a-b-c\"\n",
    "print(concatenate(\"x\", \"y\", sep=\":\"))    # \"x:y\"\n"
   ]
  },
  {
   "cell_type": "markdown",
   "id": "7ed30f24-e223-4e7b-b15e-cc22e8cbad35",
   "metadata": {},
   "source": [
    "# 4. What is the purpose of the `return` statement in a Python function?"
   ]
  },
  {
   "cell_type": "markdown",
   "id": "f87202d0-beec-4c63-967b-6964d33151c7",
   "metadata": {},
   "source": [
    "- Exit the function early (optional: returns None if omitted).\n",
    "\n",
    "- Provide a value back to the caller."
   ]
  },
  {
   "cell_type": "raw",
   "id": "b2da6d3c-0cf8-44d8-a432-98ee85e65afa",
   "metadata": {},
   "source": [
    "def find_max(a, b):\n",
    "    if a > b:\n",
    "        return a    # function ends here if this branch runs\n",
    "    return b        # otherwise returns b\n",
    "\n",
    "print(find_max(3, 7))  # 7\n"
   ]
  },
  {
   "cell_type": "markdown",
   "id": "089d7e69-62e5-4c4e-998e-d20964f3bc57",
   "metadata": {},
   "source": [
    "# 5.  What are iterators in Python and how do they differ from iterables?"
   ]
  },
  {
   "cell_type": "markdown",
   "id": "abeba5df-17fa-45ad-ab84-a9b2eaa4648f",
   "metadata": {},
   "source": [
    "- Iterable: an object you can loop over with for (implements __iter__() returning an iterator).\n",
    "Examples: list, tuple, dict, set, string.\n",
    "\n",
    "- Iterator: an object with a __next__() method that returns successive items and raises StopIteration when exhausted."
   ]
  },
  {
   "cell_type": "code",
   "execution_count": 34,
   "id": "96fec4c3-debb-4887-8368-1b8073c0cafb",
   "metadata": {},
   "outputs": [
    {
     "name": "stdout",
     "output_type": "stream",
     "text": [
      "1\n",
      "2\n",
      "3\n"
     ]
    }
   ],
   "source": [
    "lst = [1, 2, 3]        \n",
    "iterable = lst        \n",
    "iterator = iter(lst)  # now an iterator\n",
    "\n",
    "print(next(iterator))  # 1\n",
    "print(next(iterator))  # 2\n",
    "print(next(iterator))  # 3\n",
    "# next(iterator) now raises StopIteration\n"
   ]
  },
  {
   "cell_type": "markdown",
   "id": "7a3c7fd7-3645-4ff9-8f75-4bc3b305834f",
   "metadata": {},
   "source": [
    "# 6. Explain the concept of generators in Python and how they are defined."
   ]
  },
  {
   "cell_type": "markdown",
   "id": "b85dfa28-796a-44b4-a661-37910bf43186",
   "metadata": {},
   "source": [
    "A generator is a special kind of iterator defined with def and yield. Each call to next() resumes where the last yield left off."
   ]
  },
  {
   "cell_type": "code",
   "execution_count": 45,
   "id": "4e9df9b6-94bf-4a68-939e-c288c3c1d393",
   "metadata": {},
   "outputs": [
    {
     "name": "stdout",
     "output_type": "stream",
     "text": [
      "3\n",
      "2\n",
      "1\n"
     ]
    }
   ],
   "source": [
    "def countdown(n):\n",
    "    while n > 0:\n",
    "        yield n\n",
    "        n -= 1\n",
    "\n",
    "for num in countdown(3):\n",
    "    print(num)\n",
    "# Output:\n",
    "# 3\n",
    "# 2\n",
    "# 1\n"
   ]
  },
  {
   "cell_type": "markdown",
   "id": "26da2ab5-bc09-44a8-a34e-4ba480971200",
   "metadata": {},
   "source": [
    "# 7. What are the advantages of using generators over regular functions?"
   ]
  },
  {
   "cell_type": "markdown",
   "id": "bfac5c98-8175-4d13-b710-a025dcb4f444",
   "metadata": {},
   "source": [
    "- Lazy evaluation: values are produced on demand, saving memory.\n",
    "\n",
    "- Efficiency: good for large or infinite sequences.\n",
    "\n",
    "- Clear syntax: easy to express iterators without writing a full class."
   ]
  },
  {
   "cell_type": "markdown",
   "id": "37e40d94-89ba-4d95-a7fb-58f4420c7723",
   "metadata": {},
   "source": [
    "# 8. What is a lambda function in Python and when is it typically used?"
   ]
  },
  {
   "cell_type": "markdown",
   "id": "4becfdb3-0f9c-4625-b763-6f2ea6bf2b17",
   "metadata": {},
   "source": [
    "An anonymous, one-expression function defined with lambda. Commonly used for short throwaway functions, especially as arguments to higher-order functions"
   ]
  },
  {
   "cell_type": "code",
   "execution_count": 51,
   "id": "a037a288-3f50-431f-819d-61f70e087161",
   "metadata": {},
   "outputs": [
    {
     "name": "stdout",
     "output_type": "stream",
     "text": [
      "[(2, 'a'), (1, 'b'), (3, 'c')]\n"
     ]
    }
   ],
   "source": [
    "# Example: sort a list of pairs by the second element\n",
    "pairs = [(1, 'b'), (2, 'a'), (3, 'c')]\n",
    "pairs.sort(key=lambda x: x[1])\n",
    "print(pairs)  # [(2, 'a'), (1, 'b'), (3, 'c')]\n"
   ]
  },
  {
   "cell_type": "markdown",
   "id": "8e121956-e9df-465b-a172-b69a73c45759",
   "metadata": {},
   "source": [
    "# 9. Explain the purpose and usage of the `map()` function in Python."
   ]
  },
  {
   "cell_type": "markdown",
   "id": "c7d47bba-5d80-42ff-88ed-ccff7198d704",
   "metadata": {},
   "source": [
    "map(func, iterable, ...) applies func to each item of the iterable(s), returning a map object (an iterator)."
   ]
  },
  {
   "cell_type": "code",
   "execution_count": 57,
   "id": "51ae7c75-f897-456f-af53-073d2c2b2295",
   "metadata": {},
   "outputs": [
    {
     "name": "stdout",
     "output_type": "stream",
     "text": [
      "['1', '2', '3']\n"
     ]
    }
   ],
   "source": [
    "numbers = [1, 2, 3]\n",
    "strs = map(str, numbers)\n",
    "print(list(strs))  # ['1', '2', '3']\n"
   ]
  },
  {
   "cell_type": "markdown",
   "id": "0705ac11-e7e5-4fde-85c3-2b5aa17de5d3",
   "metadata": {},
   "source": [
    "# 10. What is the difference between `map()`, `reduce()`, and `filter()` functions in Python?"
   ]
  },
  {
   "cell_type": "markdown",
   "id": "558d053f-cb03-4a63-b795-db28835449ac",
   "metadata": {},
   "source": [
    "| Function        | Purpose                                          | Returns      |\n",
    "| --------------- | ------------------------------------------------ | ------------ |\n",
    "| `map(f, it…)`   | Transform each item via `f`                      | Iterator     |\n",
    "| `filter(f, it)` | Keep only items where `f(item)` is true          | Iterator     |\n",
    "| `reduce(f, it)` | Accumulate items pairwise via `f`, ending in one | Single value |\n"
   ]
  },
  {
   "cell_type": "code",
   "execution_count": 63,
   "id": "7419a199-4120-4fd8-8ec8-e58ffcea2921",
   "metadata": {},
   "outputs": [
    {
     "name": "stdout",
     "output_type": "stream",
     "text": [
      "[1, 4, 9, 16]\n",
      "[2, 4]\n",
      "10\n"
     ]
    }
   ],
   "source": [
    "from functools import reduce\n",
    "\n",
    "nums = [1, 2, 3, 4]\n",
    "\n",
    "# map → squares each\n",
    "print(list(map(lambda x: x*x, nums)))      # [1, 4, 9, 16]\n",
    "\n",
    "# filter → only even\n",
    "print(list(filter(lambda x: x%2==0, nums)))  # [2, 4]\n",
    "\n",
    "# reduce → sum all\n",
    "print(reduce(lambda a, b: a + b, nums))     # 10\n"
   ]
  },
  {
   "cell_type": "markdown",
   "id": "af3e8997-7ecc-426e-a895-a298e86bd783",
   "metadata": {},
   "source": [
    "# 11. Using pen & Paper write the internal mechanism for sum operation using  reduce function on this given list:[47,11,42,13]; "
   ]
  },
  {
   "cell_type": "code",
   "execution_count": 8,
   "id": "e0dbad77-b032-4ec2-95f0-a1e43fcb7539",
   "metadata": {},
   "outputs": [
    {
     "name": "stderr",
     "output_type": "stream",
     "text": [
      "<>:3: SyntaxWarning: invalid escape sequence '\\C'\n",
      "<>:3: SyntaxWarning: invalid escape sequence '\\C'\n",
      "C:\\Users\\admin\\AppData\\Local\\Temp\\ipykernel_6264\\3659139737.py:3: SyntaxWarning: invalid escape sequence '\\C'\n",
      "  display(Image(filename= 'D:\\Comp 6th sem\\q11.jpg'))\n"
     ]
    },
    {
     "data": {
      "image/jpeg": "[encoded data removed]",
      "text/plain": [
       "<IPython.core.display.Image object>"
      ]
     },
     "metadata": {},
     "output_type": "display_data"
    }
   ],
   "source": [
    "from IPython.display import Image, display\n",
    "\n",
    "display(Image(filename= 'D:\\Comp 6th sem\\q11.jpg'))\n"
   ]
  },
  {
   "cell_type": "markdown",
   "id": "9c500bd7-b520-44fb-ba03-a2a959601f48",
   "metadata": {
    "jp-MarkdownHeadingCollapsed": true
   },
   "source": [
    "# PRACTICAL QUESTIONS"
   ]
  },
  {
   "cell_type": "markdown",
   "id": "f4c85b03-6a54-48c6-aa8c-3b4c26e45383",
   "metadata": {},
   "source": [
    "# 1. Write a Python function that takes a list of numbers as input and returns the sum of all even numbers in the list."
   ]
  },
  {
   "cell_type": "code",
   "execution_count": 74,
   "id": "38ca4215-28b7-415b-81e4-9601f9fbfcae",
   "metadata": {},
   "outputs": [
    {
     "name": "stdout",
     "output_type": "stream",
     "text": [
      "12\n"
     ]
    }
   ],
   "source": [
    "def sum_even(numbers):\n",
    "    return sum(num for num in numbers if num % 2 == 0)\n",
    "\n",
    "# Example\n",
    "print(sum_even([1, 2, 3, 4, 5, 6]))  # Output: 12\n"
   ]
  },
  {
   "cell_type": "markdown",
   "id": "8e4c84e9-a0ba-4b1f-96c0-87875d599952",
   "metadata": {},
   "source": [
    "# 2. Create a Python function that accepts a string and returns the reverse of that string."
   ]
  },
  {
   "cell_type": "code",
   "execution_count": 82,
   "id": "48156a49-a9ee-40cb-a598-e5bb095440b1",
   "metadata": {},
   "outputs": [
    {
     "name": "stdout",
     "output_type": "stream",
     "text": [
      "scitylanAataD\n"
     ]
    }
   ],
   "source": [
    "def reverse_string(s):\n",
    "    return s[::-1]\n",
    "\n",
    "# Example\n",
    "print(reverse_string(\"DataAnalytics\"))  # Output: scitylanAtad\n"
   ]
  },
  {
   "cell_type": "markdown",
   "id": "52e26769-3655-4858-9e1a-77ce0f4187dd",
   "metadata": {},
   "source": [
    "# 3.  Implement a Python function that takes a list of integers and returns a new list containing the squares of each number."
   ]
  },
  {
   "cell_type": "code",
   "execution_count": 86,
   "id": "4c9952c4-dbee-4f2a-b3b3-d536b2a8bc2d",
   "metadata": {},
   "outputs": [
    {
     "name": "stdout",
     "output_type": "stream",
     "text": [
      "[1, 4, 9]\n"
     ]
    }
   ],
   "source": [
    "def square_list(nums):\n",
    "    return [x**2 for x in nums]\n",
    "\n",
    "# Example\n",
    "print(square_list([1, 2, 3]))  # Output: [1, 4, 9]\n"
   ]
  },
  {
   "cell_type": "markdown",
   "id": "6ae05adc-ab3a-469d-9932-0ce60c95f0bb",
   "metadata": {},
   "source": [
    "# 4. Write a Python function that checks if a given number is prime or not from 1 to 200."
   ]
  },
  {
   "cell_type": "code",
   "execution_count": 92,
   "id": "98f4e8cc-9ca1-469e-a093-b9efaded478d",
   "metadata": {},
   "outputs": [
    {
     "name": "stdout",
     "output_type": "stream",
     "text": [
      "[2, 3, 5, 7, 11, 13, 17, 19, 23, 29, 31, 37, 41, 43, 47, 53, 59, 61, 67, 71, 73, 79, 83, 89, 97, 101, 103, 107, 109, 113, 127, 131, 137, 139, 149, 151, 157, 163, 167, 173, 179, 181, 191, 193, 197, 199]\n"
     ]
    }
   ],
   "source": [
    "def is_prime(n):\n",
    "    if n <= 1:\n",
    "        return False\n",
    "    for i in range(2, int(n**0.5)+1):\n",
    "        if n % i == 0:\n",
    "            return False\n",
    "    return True\n",
    "\n",
    "# Print prime numbers from 1 to 200\n",
    "primes = [n for n in range(1, 201) if is_prime(n)]\n",
    "print(primes)\n"
   ]
  },
  {
   "cell_type": "markdown",
   "id": "7a1eda79-41fb-4433-a4c5-663fabe4163d",
   "metadata": {},
   "source": [
    "# 5. Create an iterator class in Python that generates the Fibonacci sequence up to a specified number of terms."
   ]
  },
  {
   "cell_type": "code",
   "execution_count": 97,
   "id": "c67875f6-e565-4fde-bc1d-b53efcc65c76",
   "metadata": {},
   "outputs": [
    {
     "name": "stdout",
     "output_type": "stream",
     "text": [
      "0 1 1 2 3 5 8 13 21 34 "
     ]
    }
   ],
   "source": [
    "class Fibonacci:\n",
    "    def __init__(self, max_terms):\n",
    "        self.max_terms = max_terms\n",
    "        self.count = 0\n",
    "        self.a, self.b = 0, 1\n",
    "\n",
    "    def __iter__(self):\n",
    "        return self\n",
    "\n",
    "    def __next__(self):\n",
    "        if self.count >= self.max_terms:\n",
    "            raise StopIteration\n",
    "        value = self.a\n",
    "        self.a, self.b = self.b, self.a + self.b\n",
    "        self.count += 1\n",
    "        return value\n",
    "\n",
    "# Example\n",
    "for num in Fibonacci(10):\n",
    "    print(num, end=\" \")  # Output: 0 1 1 2 3 5 8 13 21 34\n"
   ]
  },
  {
   "cell_type": "markdown",
   "id": "7ba5e24c-ee08-41ab-a1c8-f7f4ac7ec4b4",
   "metadata": {},
   "source": [
    "# 6. Write a generator function in Python that yields the powers of 2 up to a given exponent."
   ]
  },
  {
   "cell_type": "code",
   "execution_count": 100,
   "id": "94c1833b-1ade-457f-b44c-3990109e2cfd",
   "metadata": {},
   "outputs": [
    {
     "name": "stdout",
     "output_type": "stream",
     "text": [
      "1 2 4 8 16 32 "
     ]
    }
   ],
   "source": [
    "def powers_of_two(max_exp):\n",
    "    for i in range(max_exp + 1):\n",
    "        yield 2 ** i\n",
    "\n",
    "# Example\n",
    "for p in powers_of_two(5):\n",
    "    print(p, end=\" \")  # Output: 1 2 4 8 16 32 64\n"
   ]
  },
  {
   "cell_type": "markdown",
   "id": "e6307f48-8dc0-4afe-aa31-0d3e22c7e492",
   "metadata": {},
   "source": [
    "# 7. Implement a generator function that reads a file line by line and yields each line as a string."
   ]
  },
  {
   "cell_type": "code",
   "execution_count": 102,
   "id": "d64b9a7b-d04e-4c90-9bb4-e0abdc69435f",
   "metadata": {},
   "outputs": [],
   "source": [
    "def read_lines(filename):\n",
    "    with open(filename, 'r') as f:\n",
    "        for line in f:\n",
    "            yield line.strip()\n",
    "\n",
    "# Example (Make sure file exists)\n",
    "# for line in read_lines(\"example.txt\"):\n",
    "#     print(line)\n"
   ]
  },
  {
   "cell_type": "markdown",
   "id": "b2439818-47de-4599-85b4-4ff133048a09",
   "metadata": {},
   "source": [
    "# 8. Use a lambda function in Python to sort a list of tuples based on the second element of each tuple."
   ]
  },
  {
   "cell_type": "code",
   "execution_count": 106,
   "id": "b8dd0f07-d562-4a36-a735-6bcc67a8c9e1",
   "metadata": {},
   "outputs": [
    {
     "name": "stdout",
     "output_type": "stream",
     "text": [
      "[(3, 'a'), (1, 'b'), (2, 'c')]\n"
     ]
    }
   ],
   "source": [
    "data = [(1, 'b'), (3, 'a'), (2, 'c')]\n",
    "sorted_data = sorted(data, key=lambda x: x[1])\n",
    "print(sorted_data)  # Output: [(3, 'a'), (1, 'b'), (2, 'c')]\n"
   ]
  },
  {
   "cell_type": "markdown",
   "id": "9609b435-fab2-47fb-8d71-8bb41a918a22",
   "metadata": {},
   "source": [
    "# 9. Write a Python program that uses `map()` to convert a list of temperatures from Celsius to Fahrenheit."
   ]
  },
  {
   "cell_type": "code",
   "execution_count": 109,
   "id": "8eb371b3-4229-46f0-970f-5488c58a876e",
   "metadata": {},
   "outputs": [
    {
     "name": "stdout",
     "output_type": "stream",
     "text": [
      "[32.0, 68.0, 86.0, 104.0]\n"
     ]
    }
   ],
   "source": [
    "celsius = [0, 20, 30, 40]\n",
    "fahrenheit = list(map(lambda c: (c * 9/5) + 32, celsius))\n",
    "print(fahrenheit)  # Output: [32.0, 68.0, 86.0, 104.0]\n"
   ]
  },
  {
   "cell_type": "markdown",
   "id": "fdc122c5-8656-4942-94f9-873277b6b4ae",
   "metadata": {},
   "source": [
    "# 10. Create a Python program that uses `filter()` to remove all the vowels from a given string."
   ]
  },
  {
   "cell_type": "code",
   "execution_count": 112,
   "id": "20aa2db6-e059-46b9-800f-ae90dbec9515",
   "metadata": {},
   "outputs": [
    {
     "name": "stdout",
     "output_type": "stream",
     "text": [
      "Dt nlytcs\n"
     ]
    }
   ],
   "source": [
    "def remove_vowels(s):\n",
    "    vowels = 'aeiouAEIOU'\n",
    "    return ''.join(filter(lambda ch: ch not in vowels, s))\n",
    "\n",
    "# Example\n",
    "print(remove_vowels(\"Data Analytics\"))  # Output: Dt nlytcs\n"
   ]
  },
  {
   "cell_type": "markdown",
   "id": "fdf6cb84-6203-4a11-bc59-9165cc82ba01",
   "metadata": {},
   "source": [
    "#  11.) Imagine an accounting routine used in a book shop. It works on a list with sublists, which look like this:Write a Python program, which returns a list with 2-tuples. Each tuple consists of the order number and the product of the price per item and the quantity. The product should be increased by 10,- € if the value of the order is smaller than 100,00 €. Write a Python program using lambda and map"
   ]
  },
  {
   "cell_type": "code",
   "execution_count": 119,
   "id": "571d4d5c-d4d0-488e-a963-af04f54f84b5",
   "metadata": {},
   "outputs": [
    {
     "name": "stdout",
     "output_type": "stream",
     "text": [
      "[(34587, 163.8), (98762, 284.0), (77226, 108.85000000000001), (88112, 84.97)]\n"
     ]
    }
   ],
   "source": [
    "# Book orders list: [Order Number, Book Title and Author, Quantity, Price per Item]\n",
    "orders = [\n",
    "    [34587, \"Learning Python, Mark Lutz\", 4, 40.95],\n",
    "    [98762, \"Programming Python, Mark Lutz\", 5, 56.80],\n",
    "    [77226, \"Head First Python, Paul Barry\", 3, 32.95],\n",
    "    [88112, \"Einführung in Python3, Bernd Klein\", 3, 24.99]\n",
    "]\n",
    "\n",
    "# Create the output using map and lambda\n",
    "result = list(map(lambda order: \n",
    "                  (order[0], order[2] * order[3] if order[2] * order[3] >= 100 \n",
    "                   else order[2] * order[3] + 10), \n",
    "                  orders))\n",
    "\n",
    "print(result)\n"
   ]
  },
  {
   "cell_type": "code",
   "execution_count": null,
   "id": "0e45011b-a523-410f-aeb2-f39ce8d376ac",
   "metadata": {},
   "outputs": [],
   "source": []
  }
 ],
 "metadata": {
  "kernelspec": {
   "display_name": "Python 3 (ipykernel)",
   "language": "python",
   "name": "python3"
  },
  "language_info": {
   "codemirror_mode": {
    "name": "ipython",
    "version": 3
   },
   "file_extension": ".py",
   "mimetype": "text/x-python",
   "name": "python",
   "nbconvert_exporter": "python",
   "pygments_lexer": "ipython3",
   "version": "3.12.7"
  }
 },
 "nbformat": 4,
 "nbformat_minor": 5
}

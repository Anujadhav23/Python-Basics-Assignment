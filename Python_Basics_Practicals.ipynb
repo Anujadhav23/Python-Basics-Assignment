{
 "cells": [
  {
   "cell_type": "markdown",
   "id": "b1337073-f316-4ef3-9def-dadc75d13147",
   "metadata": {},
   "source": [
    "# Python Basics Assignment Practical Questions"
   ]
  },
  {
   "cell_type": "markdown",
   "id": "b2afbaef-7954-4d8d-905f-cca10c42d900",
   "metadata": {},
   "source": [
    "#### Q.1 Print \"Hello, World!\""
   ]
  },
  {
   "cell_type": "code",
   "execution_count": 4,
   "id": "bcb0f5ab-c563-4a08-b0c6-6e3d6b8ec8e1",
   "metadata": {},
   "outputs": [
    {
     "name": "stdout",
     "output_type": "stream",
     "text": [
      "Hello, World!\n"
     ]
    }
   ],
   "source": [
    "print(\"Hello, World!\")\n"
   ]
  },
  {
   "cell_type": "markdown",
   "id": "706b021b-890b-48d8-9e21-009d71b2ba29",
   "metadata": {},
   "source": [
    "#### Q.2 Display your name and age\n",
    "\n"
   ]
  },
  {
   "cell_type": "code",
   "execution_count": 9,
   "id": "dfe644e1-7e6e-46be-a7b0-091cf52ce9b9",
   "metadata": {},
   "outputs": [
    {
     "name": "stdout",
     "output_type": "stream",
     "text": [
      "Name :  Aniket\n",
      "Age :  20\n"
     ]
    }
   ],
   "source": [
    "name = 'Aniket'\n",
    "age = 20\n",
    "print(\"Name : \",name)\n",
    "print(\"Age : \",age)"
   ]
  },
  {
   "cell_type": "markdown",
   "id": "8c62347c-fcca-47d1-9c6a-63c812dfcdc7",
   "metadata": {},
   "source": [
    "#### Q.3 Print all pre-defined keywords in Python"
   ]
  },
  {
   "cell_type": "code",
   "execution_count": 15,
   "id": "7b3ad07b-3554-4b6d-8aed-62b0284797d0",
   "metadata": {},
   "outputs": [
    {
     "name": "stdout",
     "output_type": "stream",
     "text": [
      "['False', 'None', 'True', 'and', 'as', 'assert', 'async', 'await', 'break', 'class', 'continue', 'def', 'del', 'elif', 'else', 'except', 'finally', 'for', 'from', 'global', 'if', 'import', 'in', 'is', 'lambda', 'nonlocal', 'not', 'or', 'pass', 'raise', 'return', 'try', 'while', 'with', 'yield']\n"
     ]
    }
   ],
   "source": [
    "import keyword\n",
    "print(keyword.kwlist)"
   ]
  },
  {
   "cell_type": "markdown",
   "id": "8f32fabc-0eb2-4145-baef-52a26a229ecd",
   "metadata": {},
   "source": [
    "#### Q.4 Check if a given word is a Python keyword"
   ]
  },
  {
   "cell_type": "code",
   "execution_count": 20,
   "id": "647b8704-78e1-43d0-985f-9ecab32a75d7",
   "metadata": {},
   "outputs": [
    {
     "name": "stdin",
     "output_type": "stream",
     "text": [
      "Enter a word:  if\n"
     ]
    },
    {
     "name": "stdout",
     "output_type": "stream",
     "text": [
      "if is a Python keyword.\n"
     ]
    }
   ],
   "source": [
    "import keyword\n",
    "word = input(\"Enter a word: \")\n",
    "if keyword.iskeyword(word):\n",
    "    print(f\"{word} is a Python keyword.\")\n",
    "else:\n",
    "    print(f\"{word} is not a Python keyword.\")\n"
   ]
  },
  {
   "cell_type": "markdown",
   "id": "c1bf5521-ac5c-4fbc-ac16-e225ccb3676b",
   "metadata": {},
   "source": [
    "#### Q.5 Function to demonstrate mutable and immutable arguments"
   ]
  },
  {
   "cell_type": "code",
   "execution_count": 23,
   "id": "b8213e8a-05ac-49ba-bca2-064fee0d742a",
   "metadata": {},
   "outputs": [
    {
     "name": "stdout",
     "output_type": "stream",
     "text": [
      "Modified list: [100, 2, 3]\n",
      "Cannot modify tuple\n"
     ]
    }
   ],
   "source": [
    "def test_mutability(lst, tup):\n",
    "    lst[0] = 100  # Mutable list\n",
    "    print(\"Modified list:\", lst)\n",
    "    \n",
    "    try:\n",
    "        tup[0] = 100  # Immutable tuple\n",
    "    except TypeError:\n",
    "        print(\"Cannot modify tuple\")\n",
    "\n",
    "test_mutability([1, 2, 3], (1, 2, 3))\n"
   ]
  },
  {
   "cell_type": "markdown",
   "id": "49c873fb-61e1-46d3-be8b-11deba53fef6",
   "metadata": {},
   "source": [
    "#### Q.6 Basic arithmetic operations on two user-input numbers"
   ]
  },
  {
   "cell_type": "code",
   "execution_count": 26,
   "id": "e4a50f6d-c9dd-4de8-a663-f42d29eb5406",
   "metadata": {},
   "outputs": [
    {
     "name": "stdin",
     "output_type": "stream",
     "text": [
      "Enter first number:  10.4\n",
      "Enter second number:  2.4\n"
     ]
    },
    {
     "name": "stdout",
     "output_type": "stream",
     "text": [
      "Addition: 12.8\n",
      "Subtraction: 8.0\n",
      "Multiplication: 24.96\n",
      "Division: 4.333333333333334\n"
     ]
    }
   ],
   "source": [
    "num1 = float(input(\"Enter first number: \"))\n",
    "num2 = float(input(\"Enter second number: \"))\n",
    "\n",
    "print(\"Addition:\", num1 + num2)\n",
    "print(\"Subtraction:\", num1 - num2)\n",
    "print(\"Multiplication:\", num1 * num2)\n",
    "print(\"Division:\", num1 / num2 if num2 != 0 else \"Cannot divide by zero\")\n"
   ]
  },
  {
   "cell_type": "markdown",
   "id": "906855de-804b-457b-b588-61383d16355b",
   "metadata": {},
   "source": [
    "#### Q.7 Demonstrate the use of logical operators"
   ]
  },
  {
   "cell_type": "code",
   "execution_count": 29,
   "id": "7682e742-53ea-4bbe-bb93-1a1d82da04fc",
   "metadata": {},
   "outputs": [
    {
     "name": "stdout",
     "output_type": "stream",
     "text": [
      "True\n",
      "True\n",
      "False\n"
     ]
    }
   ],
   "source": [
    "x = 10\n",
    "y = 5\n",
    "\n",
    "print(x > 5 and y < 10)  # True\n",
    "print(x < 5 or y < 10)   # True\n",
    "print(not(x > 5))        # False\n"
   ]
  },
  {
   "cell_type": "markdown",
   "id": "577d0511-1768-4ebf-aff4-73e381fd30db",
   "metadata": {},
   "source": [
    "#### Q.8 Create a list and tuple and demonstrate how attempting to change an element works differently"
   ]
  },
  {
   "cell_type": "code",
   "execution_count": 32,
   "id": "b4d56c2a-dc01-496e-8d7d-97bd36578c5a",
   "metadata": {},
   "outputs": [
    {
     "name": "stdout",
     "output_type": "stream",
     "text": [
      "Modified list: [10, 2, 3]\n",
      "Cannot modify tuple\n"
     ]
    }
   ],
   "source": [
    "my_list = [1, 2, 3]\n",
    "my_tuple = (1, 2, 3)\n",
    "\n",
    "my_list[0] = 10  # Works fine, mutable\n",
    "print(\"Modified list:\", my_list)\n",
    "\n",
    "try:\n",
    "    my_tuple[0] = 10  # Throws an error, immutable\n",
    "except TypeError:\n",
    "    print(\"Cannot modify tuple\")\n"
   ]
  },
  {
   "cell_type": "markdown",
   "id": "a47b5bff-9449-4b9c-8b0d-8aa84e0f8126",
   "metadata": {},
   "source": [
    "#### Q.9 Convert user input from string to integer, float, and boolean types"
   ]
  },
  {
   "cell_type": "code",
   "execution_count": 35,
   "id": "7cf274a3-9a7e-42ea-9a74-c705dba0e0b1",
   "metadata": {},
   "outputs": [
    {
     "name": "stdin",
     "output_type": "stream",
     "text": [
      "Enter a value:  23\n"
     ]
    },
    {
     "name": "stdout",
     "output_type": "stream",
     "text": [
      "Converted to integer: 23\n",
      "Converted to float: 23.0\n",
      "Converted to boolean: True\n"
     ]
    }
   ],
   "source": [
    "user_input = input(\"Enter a value: \")\n",
    "\n",
    "# Convert to integer, float, and boolean\n",
    "try:\n",
    "    int_value = int(user_input)\n",
    "    print(\"Converted to integer:\", int_value)\n",
    "except ValueError:\n",
    "    print(\"Cannot convert to integer.\")\n",
    "\n",
    "try:\n",
    "    float_value = float(user_input)\n",
    "    print(\"Converted to float:\", float_value)\n",
    "except ValueError:\n",
    "    print(\"Cannot convert to float.\")\n",
    "\n",
    "print(\"Converted to boolean:\", bool(user_input))\n"
   ]
  },
  {
   "cell_type": "markdown",
   "id": "e130355d-d2c8-4694-b18c-0811023e6da3",
   "metadata": {},
   "source": [
    "#### Q.10 Demonstrate type casting with list elements"
   ]
  },
  {
   "cell_type": "code",
   "execution_count": 38,
   "id": "3da9284e-d1d9-43e3-92ec-0f8dc2fa30fe",
   "metadata": {},
   "outputs": [
    {
     "name": "stdout",
     "output_type": "stream",
     "text": [
      "Converted list to integers: [1, 2, 3, 4]\n"
     ]
    }
   ],
   "source": [
    "my_list = [\"1\", \"2\", \"3\", \"4\"]\n",
    "int_list = [int(i) for i in my_list]\n",
    "print(\"Converted list to integers:\", int_list)\n"
   ]
  },
  {
   "cell_type": "markdown",
   "id": "d1632764-232e-4248-8b36-7fbca299fc63",
   "metadata": {},
   "source": [
    "#### Q.11 Check if a number is positive, negative, or zero"
   ]
  },
  {
   "cell_type": "code",
   "execution_count": 41,
   "id": "c9dfbc18-f556-439e-bcb7-4ce2f5fc69c8",
   "metadata": {},
   "outputs": [
    {
     "name": "stdin",
     "output_type": "stream",
     "text": [
      "Enter a number:  3\n"
     ]
    },
    {
     "name": "stdout",
     "output_type": "stream",
     "text": [
      "Positive number\n"
     ]
    }
   ],
   "source": [
    "num = float(input(\"Enter a number: \"))\n",
    "\n",
    "if num > 0:\n",
    "    print(\"Positive number\")\n",
    "elif num < 0:\n",
    "    print(\"Negative number\")\n",
    "else:\n",
    "    print(\"Zero\")\n"
   ]
  },
  {
   "cell_type": "markdown",
   "id": "c9d7cbd5-8871-4405-9b63-a474a381de7d",
   "metadata": {},
   "source": [
    "#### Q.12 Print numbers from 1 to 10 using a for loop"
   ]
  },
  {
   "cell_type": "code",
   "execution_count": 50,
   "id": "75393ad9-4437-4dfb-83b7-f303e7af4cbd",
   "metadata": {},
   "outputs": [
    {
     "name": "stdout",
     "output_type": "stream",
     "text": [
      "1\n",
      "2\n",
      "3\n",
      "4\n",
      "5\n",
      "6\n",
      "7\n",
      "8\n",
      "9\n",
      "10\n"
     ]
    }
   ],
   "source": [
    "for i in range (1 ,11):\n",
    "    print(i)\n"
   ]
  },
  {
   "cell_type": "markdown",
   "id": "748c3c38-750c-45aa-9463-cd7203635c7f",
   "metadata": {},
   "source": [
    "#### Q.13 Find the sum of all even numbers between 1 and 50\n"
   ]
  },
  {
   "cell_type": "code",
   "execution_count": 53,
   "id": "2a17a9cc-02e7-457c-849d-e7c01a5bb1cb",
   "metadata": {},
   "outputs": [
    {
     "name": "stdout",
     "output_type": "stream",
     "text": [
      "Sum of even numbers between 1 and 50: 650\n"
     ]
    }
   ],
   "source": [
    "even_sum = sum(i for i in range(1, 51) if i % 2 == 0)\n",
    "print(\"Sum of even numbers between 1 and 50:\", even_sum)\n"
   ]
  },
  {
   "cell_type": "markdown",
   "id": "df4305af-7833-40d9-b3ae-a061d46b694f",
   "metadata": {},
   "source": [
    "#### Q.14 Reverse a string using a while loop"
   ]
  },
  {
   "cell_type": "code",
   "execution_count": 56,
   "id": "b83542af-08c2-4624-881c-6ca24a60529e",
   "metadata": {},
   "outputs": [
    {
     "name": "stdin",
     "output_type": "stream",
     "text": [
      "Enter a string:  aniketjadhav\n"
     ]
    },
    {
     "name": "stdout",
     "output_type": "stream",
     "text": [
      "Reversed string: vahdajtekina\n"
     ]
    }
   ],
   "source": [
    "string = input(\"Enter a string: \")\n",
    "reversed_string = \"\"\n",
    "index = len(string) - 1\n",
    "\n",
    "while index >= 0:\n",
    "    reversed_string += string[index]\n",
    "    index -= 1\n",
    "\n",
    "print(\"Reversed string:\", reversed_string)\n"
   ]
  },
  {
   "cell_type": "markdown",
   "id": "3f1345c5-6551-4a52-a553-2847ce1e4dd1",
   "metadata": {},
   "source": [
    "#### Q.15 Calculate the factorial of a number using a while loop\n",
    "\n"
   ]
  },
  {
   "cell_type": "code",
   "execution_count": 59,
   "id": "9e1dc255-a5b7-43b6-b2be-746dc2b76ea7",
   "metadata": {},
   "outputs": [
    {
     "name": "stdin",
     "output_type": "stream",
     "text": [
      "Enter a number:  45\n"
     ]
    },
    {
     "name": "stdout",
     "output_type": "stream",
     "text": [
      "Factorial: 119622220865480194561963161495657715064383733760000000000\n"
     ]
    }
   ],
   "source": [
    "num = int(input(\"Enter a number: \"))\n",
    "factorial = 1\n",
    "while num > 1:\n",
    "    factorial *= num\n",
    "    num -= 1\n",
    "\n",
    "print(\"Factorial:\", factorial)\n"
   ]
  },
  {
   "cell_type": "code",
   "execution_count": null,
   "id": "484c9aaa-6981-4f4b-811e-0dfc7b0664b3",
   "metadata": {},
   "outputs": [],
   "source": []
  }
 ],
 "metadata": {
  "kernelspec": {
   "display_name": "Python 3 (ipykernel)",
   "language": "python",
   "name": "python3"
  },
  "language_info": {
   "codemirror_mode": {
    "name": "ipython",
    "version": 3
   },
   "file_extension": ".py",
   "mimetype": "text/x-python",
   "name": "python",
   "nbconvert_exporter": "python",
   "pygments_lexer": "ipython3",
   "version": "3.12.7"
  }
 },
 "nbformat": 4,
 "nbformat_minor": 5
}

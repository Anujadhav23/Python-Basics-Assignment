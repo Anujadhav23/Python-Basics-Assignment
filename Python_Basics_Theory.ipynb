{
 "cells": [
  {
   "cell_type": "markdown",
   "id": "5087bf91-6360-4124-95f4-465f6dc410a8",
   "metadata": {},
   "source": [
    "# Python Basics Assignment"
   ]
  },
  {
   "cell_type": "markdown",
   "id": "83f40d34-4bf0-4d5f-8b2f-483acd74ac2a",
   "metadata": {},
   "source": [
    "### Theory Questions"
   ]
  },
  {
   "cell_type": "markdown",
   "id": "2fa07ea9-8b37-4cc1-8e4d-4d8b91c785f9",
   "metadata": {},
   "source": [
    "#### Q.1 What is Python, and why is it popular?"
   ]
  },
  {
   "cell_type": "markdown",
   "id": "e617ee7b-cf19-4442-b6b6-7a6840c43a3f",
   "metadata": {},
   "source": [
    "#### Ans: Python is a high-level, interpreted programming language known for its simple syntax and readability.\n",
    "\n",
    "Why it's popular:\n",
    "\n",
    "- Easy to learn and use\n",
    "\n",
    "- Extensive libraries (e.g., NumPy, Pandas, Matplotlib)\n",
    "\n",
    "- Versatile (used in data analysis, web dev, AI, automation, etc.)\n",
    "\n",
    "- Large community support"
   ]
  },
  {
   "cell_type": "markdown",
   "id": "4ed08471-38fb-40af-a3c0-6b543a3877b5",
   "metadata": {},
   "source": [
    "#### Q.2 What is an interpreter in Python ?\n",
    "An interpreter in Python is a program that executes Python code line-by-line, converting it into machine code at runtime.\n",
    "\n",
    "It allows:\n",
    "\n",
    "- Immediate execution of code (no need to compile)\n",
    "\n",
    "- Easier debugging and testing\n"
   ]
  },
  {
   "cell_type": "markdown",
   "id": "a9f4ba7c-c9b9-4b64-83b2-719d5d04da99",
   "metadata": {},
   "source": [
    "#### Q.3 What are pre-defined keywords in Python?\n",
    "Pre-defined keywords in Python are reserved words that have special meaning in the language and cannot be used as variable names.\n"
   ]
  },
  {
   "cell_type": "code",
   "execution_count": 16,
   "id": "2a50626a-f3c4-4a9b-a15c-0b71de9dffbd",
   "metadata": {},
   "outputs": [
    {
     "name": "stdout",
     "output_type": "stream",
     "text": [
      "['False', 'None', 'True', 'and', 'as', 'assert', 'async', 'await', 'break', 'class', 'continue', 'def', 'del', 'elif', 'else', 'except', 'finally', 'for', 'from', 'global', 'if', 'import', 'in', 'is', 'lambda', 'nonlocal', 'not', 'or', 'pass', 'raise', 'return', 'try', 'while', 'with', 'yield']\n"
     ]
    }
   ],
   "source": [
    "import keyword\n",
    "print(keyword.kwlist)\n"
   ]
  },
  {
   "cell_type": "markdown",
   "id": "e922529b-16e6-4c99-978e-e0ec2b388153",
   "metadata": {},
   "source": [
    "#### Q.4 Can keywords be used as variable names ?\n",
    "No, keywords cannot be used as variable names in Python.\n",
    "\n",
    "They are reserved for specific syntax or functions in the language.\n",
    "\n",
    "Example (Invalid Example):"
   ]
  },
  {
   "cell_type": "code",
   "execution_count": 19,
   "id": "912ad5c0-1801-46f2-bfdf-5c149734c89e",
   "metadata": {},
   "outputs": [
    {
     "ename": "SyntaxError",
     "evalue": "invalid syntax (3205825223.py, line 1)",
     "output_type": "error",
     "traceback": [
      "\u001b[1;36m  Cell \u001b[1;32mIn[19], line 1\u001b[1;36m\u001b[0m\n\u001b[1;33m    if = 5  # SyntaxError\u001b[0m\n\u001b[1;37m       ^\u001b[0m\n\u001b[1;31mSyntaxError\u001b[0m\u001b[1;31m:\u001b[0m invalid syntax\n"
     ]
    }
   ],
   "source": [
    "if = 5  # SyntaxError\n"
   ]
  },
  {
   "cell_type": "markdown",
   "id": "9d8e1cc3-308b-46ae-81da-939a9ba6affb",
   "metadata": {},
   "source": [
    "#### Q.5  What is mutability in Python \n",
    "Mutability in Python refers to whether an object’s value can be changed after it's created.\n",
    "\n",
    "- Mutable objects: Can be changed  : e.g., list, dict, set\n",
    "\n",
    "- Immutable objects: Cannot be changed  :  e.g., int, str, tuple\n",
    "\n",
    "Example:"
   ]
  },
  {
   "cell_type": "code",
   "execution_count": 30,
   "id": "1d6726bf-d979-44ea-ad53-5eb4a17b24bf",
   "metadata": {},
   "outputs": [
    {
     "name": "stdout",
     "output_type": "stream",
     "text": [
      "[1, 2, 3]\n"
     ]
    }
   ],
   "source": [
    "a = [1, 2]\n",
    "a.append(3)  #  Mutable (list changed)\n",
    "print(a)\n"
   ]
  },
  {
   "cell_type": "markdown",
   "id": "fb8d9de2-2a5b-4f13-8682-247e26054271",
   "metadata": {},
   "source": [
    "#### Q.6  Why are lists mutable, but tuples are immutable ?\n",
    "Lists are mutable because their internal structure allows modification of elements, insertion, or deletion after creation.\n",
    "Tuples are immutable because they are designed to be fixed collections, ensuring data safety and hashability."
   ]
  },
  {
   "cell_type": "code",
   "execution_count": 33,
   "id": "f64a0bab-fbe8-4caa-940a-fc01dcb6ebf2",
   "metadata": {},
   "outputs": [
    {
     "ename": "TypeError",
     "evalue": "'tuple' object does not support item assignment",
     "output_type": "error",
     "traceback": [
      "\u001b[1;31m---------------------------------------------------------------------------\u001b[0m",
      "\u001b[1;31mTypeError\u001b[0m                                 Traceback (most recent call last)",
      "Cell \u001b[1;32mIn[33], line 8\u001b[0m\n\u001b[0;32m      6\u001b[0m \u001b[38;5;66;03m# Immutable tuple\u001b[39;00m\n\u001b[0;32m      7\u001b[0m tup \u001b[38;5;241m=\u001b[39m (\u001b[38;5;241m1\u001b[39m, \u001b[38;5;241m2\u001b[39m)\n\u001b[1;32m----> 8\u001b[0m tup[\u001b[38;5;241m0\u001b[39m] \u001b[38;5;241m=\u001b[39m \u001b[38;5;241m10\u001b[39m\n",
      "\u001b[1;31mTypeError\u001b[0m: 'tuple' object does not support item assignment"
     ]
    }
   ],
   "source": [
    "# Example\n",
    "# Mutable list\n",
    "lst = [1, 2]\n",
    "lst[0] = 10  #  Works\n",
    "\n",
    "# Immutable tuple\n",
    "tup = (1, 2)\n",
    "tup[0] = 10  #  Error: \n"
   ]
  },
  {
   "cell_type": "markdown",
   "id": "574b4990-4882-4c8a-a4f6-47418726c011",
   "metadata": {},
   "source": [
    "#### Q.7  What is the difference between “==” and “is” operators in Python?\n",
    "== (Equality Operator): Checks if values are equal.\n",
    "\n",
    "is (Identity Operator): Checks if both variables refer to the same object in memory."
   ]
  },
  {
   "cell_type": "code",
   "execution_count": 37,
   "id": "1dc2c566-bd04-4c2e-b3c9-5cbed1188d0f",
   "metadata": {},
   "outputs": [
    {
     "data": {
      "text/plain": [
       "False"
      ]
     },
     "execution_count": 37,
     "metadata": {},
     "output_type": "execute_result"
    }
   ],
   "source": [
    "# Example\n",
    "a = [1, 2]\n",
    "b = [1, 2]\n",
    "\n",
    "a == b     # True (same values)\n",
    "a is b     # False (different memory locations)\n"
   ]
  },
  {
   "cell_type": "markdown",
   "id": "4bfe5319-808a-4cb3-acd6-2f0c965e67cb",
   "metadata": {},
   "source": [
    "#### Q.8 What are logical operators in Python ?\n",
    "Logical operators in Python are used to perform boolean logic operations.\n",
    "\n",
    "There are three main logical operators:\n",
    "\n",
    "- and – True if both conditions are True\n",
    "\n",
    "- or – True if at least one condition is True\n",
    "\n",
    "- not – Inverts the boolean value"
   ]
  },
  {
   "cell_type": "code",
   "execution_count": 40,
   "id": "0afef71f-e3e1-4be9-9219-6e72ee283e28",
   "metadata": {},
   "outputs": [
    {
     "data": {
      "text/plain": [
       "False"
      ]
     },
     "execution_count": 40,
     "metadata": {},
     "output_type": "execute_result"
    }
   ],
   "source": [
    "# Example\n",
    "x = 5\n",
    "x > 2 and x < 10   # True\n",
    "x < 2 or x > 3     # True\n",
    "not(x > 2)         # False\n"
   ]
  },
  {
   "cell_type": "markdown",
   "id": "27b75a43-7850-4089-b436-a0eb37efa0c1",
   "metadata": {},
   "source": [
    "#### Q.9 What is type casting in Python ?\n",
    "Type casting in Python means converting one data type to another manually using built-in functions.\n",
    "\n",
    "Common type casting functions:\n",
    "\n",
    "- int() → Converts to integer\n",
    "\n",
    "- float() → Converts to float\n",
    "\n",
    "- str() → Converts to string\n",
    "\n",
    "- list(), tuple(), etc.\n",
    "\n"
   ]
  },
  {
   "cell_type": "code",
   "execution_count": 47,
   "id": "f455ab1b-5090-41fa-8451-b7a44f9d600a",
   "metadata": {},
   "outputs": [],
   "source": [
    "# Example\n",
    "a = \"5\"\n",
    "b = int(a)  # \"5\" (str) → 5 (int)\n"
   ]
  },
  {
   "cell_type": "markdown",
   "id": "0da1a1cf-b116-42eb-b37e-8162bccbb836",
   "metadata": {},
   "source": [
    "#### Q.10 What is the difference between implicit and explicit type casting?\n",
    "Implicit Type Casting (Type Coercion):\n",
    "\n",
    "- Automatically done by Python when converting compatible data types without losing information.\n",
    "\n",
    "- Happens when converting from lower to higher data types (e.g., int to float).\n",
    "\n",
    "  \n",
    "Explicit Type Casting (Type Conversion):\n",
    "\n",
    "- Manually done by the programmer using functions like int(), float(), etc.\n",
    "\n",
    "- Used when converting incompatible types or when precision control is needed."
   ]
  },
  {
   "cell_type": "code",
   "execution_count": 53,
   "id": "8bdfa110-f027-442b-8a01-3d59d9c737ea",
   "metadata": {},
   "outputs": [],
   "source": [
    "# Example of Implicit Type Casting\n",
    "x = 5  # int\n",
    "y = 2.5  # float\n",
    "result = x + y  # Implicitly converts 5 (int) to 5.0 (float)\n"
   ]
  },
  {
   "cell_type": "code",
   "execution_count": 55,
   "id": "7c7f0a6e-4a3c-42c1-a2fa-240523bcf05f",
   "metadata": {},
   "outputs": [],
   "source": [
    "# Example of Explicit Type Casting\n",
    "x = \"10\"  # string\n",
    "y = int(x)  # Explicitly converts to int\n"
   ]
  },
  {
   "cell_type": "markdown",
   "id": "e046104d-ff2e-445c-82c1-ac875eb21c38",
   "metadata": {},
   "source": [
    "#### Q.11 What is the purpose of conditional statements in Python ?\n",
    "Conditional statements in Python are used to execute specific code based on certain conditions (truth values).\n",
    "\n",
    "Common conditional statements:\n",
    "\n",
    "- if: Executes a block of code if the condition is True.\n",
    "\n",
    "- elif: Checks another condition if the previous if or elif is False.\n",
    "\n",
    "- else: Executes when none of the previous conditions are True."
   ]
  },
  {
   "cell_type": "code",
   "execution_count": 60,
   "id": "24253c58-b5b6-481f-bc4f-4948d7b98efd",
   "metadata": {},
   "outputs": [
    {
     "name": "stdout",
     "output_type": "stream",
     "text": [
      "Positive\n"
     ]
    }
   ],
   "source": [
    "# Example \n",
    "x = 5\n",
    "if x > 0:\n",
    "    print(\"Positive\")\n",
    "elif x < 0:\n",
    "    print(\"Negative\")\n",
    "else:\n",
    "    print(\"Zero\")\n"
   ]
  },
  {
   "cell_type": "markdown",
   "id": "e3787981-33cc-48b1-973c-541bdf74f057",
   "metadata": {},
   "source": [
    "#### Q.12 How does the elif statement work ?\n",
    "The elif (short for \"else if\") statement in Python is used to check multiple conditions in sequence. It only executes if the preceding if and elif conditions are False.\n",
    "\n",
    "- elif provides an alternative condition to check when the initial if condition is False.\n"
   ]
  },
  {
   "cell_type": "code",
   "execution_count": 65,
   "id": "37ae366e-4b04-4b85-8086-1df9dff488f5",
   "metadata": {},
   "outputs": [
    {
     "name": "stdout",
     "output_type": "stream",
     "text": [
      "Equal to 10\n"
     ]
    }
   ],
   "source": [
    "# Example\n",
    "x = 10\n",
    "if x < 5:\n",
    "    print(\"Less than 5\")\n",
    "elif x == 10:  # This condition is checked if the first one is False\n",
    "    print(\"Equal to 10\")\n",
    "else:\n",
    "    print(\"Greater than 10\")\n"
   ]
  },
  {
   "cell_type": "markdown",
   "id": "af4414f6-201f-4199-9243-6412bba1887a",
   "metadata": {},
   "source": [
    "#### Q.13 What is the difference between for and while loops ?\n",
    "for loop:\n",
    "\n",
    "- Iterates over a sequence (like a list, tuple, string, or range).\n",
    "\n",
    "- Ideal for when the number of iterations is known beforehand.\n",
    "\n",
    "while loop:\n",
    "\n",
    "- Repeats as long as the condition is True.\n",
    "\n",
    "- Ideal when the number of iterations is unknown and depends on a condition.\n",
    "\n",
    "Key difference:\n",
    "\n",
    "- for is used for iterating over sequences or a known number of iterations.\n",
    "\n",
    "- while is used when the loop runs until a condition is no longer True."
   ]
  },
  {
   "cell_type": "code",
   "execution_count": 70,
   "id": "86b02359-f09c-4c46-8b37-546aa06e15a4",
   "metadata": {},
   "outputs": [
    {
     "name": "stdout",
     "output_type": "stream",
     "text": [
      "0\n",
      "1\n",
      "2\n",
      "3\n",
      "4\n"
     ]
    }
   ],
   "source": [
    "# Example of for loop\n",
    "for i in range(5):\n",
    "    print(i)  # Prints 0 to 4\n"
   ]
  },
  {
   "cell_type": "code",
   "execution_count": 72,
   "id": "bbb7856a-1a45-4ec6-ada1-49396b94688a",
   "metadata": {},
   "outputs": [
    {
     "name": "stdout",
     "output_type": "stream",
     "text": [
      "0\n",
      "1\n",
      "2\n",
      "3\n",
      "4\n"
     ]
    }
   ],
   "source": [
    "# Example of while loop\n",
    "x = 0\n",
    "while x < 5:\n",
    "    print(x)  # Prints 0 to 4\n",
    "    x += 1\n"
   ]
  },
  {
   "cell_type": "markdown",
   "id": "8d06ded4-e2c6-4c57-98d1-bb6d17402c4d",
   "metadata": {},
   "source": [
    "#### Q.14 Describe a scenario where a while loop is more suitable than a for loop.\n",
    "A while loop is more suitable when the number of iterations is unknown and depends on a condition that can change during the execution of the loop.\n",
    "\n",
    "- Scenario Example:\n",
    "User input validation:\n",
    "\n",
    "If you want to repeatedly ask the user for input until they enter a valid value, you don’t know how many attempts it will take. A while loop is ideal in this case.\n"
   ]
  },
  {
   "cell_type": "code",
   "execution_count": 76,
   "id": "7ba5ff68-65a3-4888-bfaf-640e00295427",
   "metadata": {},
   "outputs": [
    {
     "name": "stdin",
     "output_type": "stream",
     "text": [
      "Please type 'yes' to continue:  yes\n"
     ]
    }
   ],
   "source": [
    "# Example\n",
    "user_input = \"\"\n",
    "while user_input != \"yes\":\n",
    "    user_input = input(\"Please type 'yes' to continue: \")\n"
   ]
  },
  {
   "cell_type": "markdown",
   "id": "ee116626-3a5e-4e51-b7af-1870c7340968",
   "metadata": {},
   "source": [
    "In this case, the loop will continue until the user enters \"yes\", and you don’t know in advance how many iterations it will take."
   ]
  },
  {
   "cell_type": "code",
   "execution_count": null,
   "id": "36f5225f-0af3-4524-bb59-6807a72d4a2e",
   "metadata": {},
   "outputs": [],
   "source": []
  }
 ],
 "metadata": {
  "kernelspec": {
   "display_name": "Python 3 (ipykernel)",
   "language": "python",
   "name": "python3"
  },
  "language_info": {
   "codemirror_mode": {
    "name": "ipython",
    "version": 3
   },
   "file_extension": ".py",
   "mimetype": "text/x-python",
   "name": "python",
   "nbconvert_exporter": "python",
   "pygments_lexer": "ipython3",
   "version": "3.12.7"
  }
 },
 "nbformat": 4,
 "nbformat_minor": 5
}
